{
 "cells": [
  {
   "cell_type": "markdown",
   "metadata": {},
   "source": [
    "# Libraries"
   ]
  },
  {
   "cell_type": "code",
   "execution_count": null,
   "metadata": {},
   "outputs": [],
   "source": [
    "import nltk\n",
    "from nltk.tokenize import sent_tokenize, word_tokenize, PunktSentenceTokenizer, RegexpTokenizer\n",
    "from nltk.corpus import stopwords\n",
    "from nltk.stem import WordNetLemmatizer\n",
    "#nltk.download('punkt')\n",
    "import pandas as pd\n",
    "import numpy as np\n",
    "#nltk.download('wordnet')\n",
    "import itertools\n",
    "import os\n",
    "import re\n",
    "\n",
    "from sklearn import model_selection, preprocessing, metrics\n",
    "from sklearn.feature_extraction.text import TfidfVectorizer, CountVectorizer\n",
    "from sklearn import decomposition\n",
    "\n",
    "import matplotlib.pyplot as plt\n",
    "import pandas, numpy, textblob, string\n",
    "\n",
    "from keras.preprocessing import text, sequence\n",
    "from keras.callbacks import EarlyStopping, ModelCheckpoint\n",
    "from keras.models import Sequential, Model\n",
    "from keras.layers import Dense, Input, Dropout"
   ]
  },
  {
   "cell_type": "markdown",
   "metadata": {},
   "source": [
    "# Insert the path of the files"
   ]
  },
  {
   "cell_type": "code",
   "execution_count": 2,
   "metadata": {},
   "outputs": [],
   "source": [
    "### Insert the path with the clean scores\n",
    "path = \"\""
   ]
  },
  {
   "cell_type": "markdown",
   "metadata": {},
   "source": [
    "# Get the names and the scores"
   ]
  },
  {
   "cell_type": "code",
   "execution_count": 3,
   "metadata": {},
   "outputs": [],
   "source": [
    "#path = 'D:\\\\filings_clean_withscore'\n",
    "\n",
    "files = []\n",
    "# r=root, d=directories, f=files\n",
    "for r, d, f in os.walk(path):\n",
    "    for file in f:\n",
    "        if '.txt' in file:\n",
    "            files.append(os.path.join(r, file))\n",
    "scores = []\n",
    "names = []\n",
    "for f in files:\n",
    "    scores.append(re.findall(\"_\\d_\\d_\\d_\\d\", f))\n",
    "    names.append(re.findall(\"text_10k_(.*)(?=_\\d_\\d_\\d_)\", f))\n",
    "\n",
    "names_joined = [' '.join(x) for x in names]\n",
    "text_dict  = {}"
   ]
  },
  {
   "cell_type": "markdown",
   "metadata": {},
   "source": [
    "# Insert the text in a dictionary and create a dataframe"
   ]
  },
  {
   "cell_type": "code",
   "execution_count": 4,
   "metadata": {},
   "outputs": [],
   "source": [
    "for file, name in zip(files, names_joined):\n",
    "    with open(file, \"r\") as myfile:\n",
    "        text_dict[name] = myfile.read().replace(\"\\n\", \" \")\n",
    "\n",
    "df_text = pd.DataFrame(text_dict.items(), columns=[\"id\", \"text\"])\n",
    "del text_dict, names\n",
    "scores_joined = [' '.join(x) for x in scores]\n",
    "del scores"
   ]
  },
  {
   "cell_type": "markdown",
   "metadata": {},
   "source": [
    "# Create columns for the ESG scores"
   ]
  },
  {
   "cell_type": "code",
   "execution_count": 5,
   "metadata": {},
   "outputs": [
    {
     "name": "stderr",
     "output_type": "stream",
     "text": [
      "C:\\Users\\Hella\\Anaconda3\\lib\\site-packages\\pandas\\core\\indexing.py:190: SettingWithCopyWarning: \n",
      "A value is trying to be set on a copy of a slice from a DataFrame\n",
      "\n",
      "See the caveats in the documentation: http://pandas.pydata.org/pandas-docs/stable/indexing.html#indexing-view-versus-copy\n",
      "  self._setitem_with_indexer(indexer, value)\n"
     ]
    }
   ],
   "source": [
    "\n",
    "df_text[\"total_esg\"] = 0\n",
    "df_text[\"E_score\"] = 0\n",
    "df_text[\"S_score\"] = 0\n",
    "df_text[\"G_score\"] = 0\n",
    "\n",
    "for row in range(len(df_text)):\n",
    "    df_text[\"total_esg\"].iloc[row] = scores_joined[row].split(\"_\")[1]\n",
    "    df_text[\"E_score\"].iloc[row] = scores_joined[row].split(\"_\")[2]\n",
    "    df_text[\"S_score\"].iloc[row] = scores_joined[row].split(\"_\")[3]\n",
    "    df_text[\"G_score\"].iloc[row] = scores_joined[row].split(\"_\")[4]\n",
    "  \n"
   ]
  },
  {
   "cell_type": "markdown",
   "metadata": {},
   "source": [
    "# Text preprocessing"
   ]
  },
  {
   "cell_type": "code",
   "execution_count": 9,
   "metadata": {},
   "outputs": [
    {
     "name": "stderr",
     "output_type": "stream",
     "text": [
      "C:\\Users\\Hella\\Anaconda3\\lib\\site-packages\\ipykernel_launcher.py:48: SettingWithCopyWarning: \n",
      "A value is trying to be set on a copy of a slice from a DataFrame\n",
      "\n",
      "See the caveats in the documentation: http://pandas.pydata.org/pandas-docs/stable/indexing.html#indexing-view-versus-copy\n"
     ]
    }
   ],
   "source": [
    "documents = []\n",
    "\n",
    "\n",
    "stemmer = WordNetLemmatizer()\n",
    "stop_words = set(stopwords.words(\"english\"))\n",
    "\n",
    "for sen in range(0, len(df_text)):  \n",
    "    # Remove all the special characters\n",
    "    document = re.sub(r'\\W', ' ', str(df_text[\"text\"][sen]))\n",
    "\n",
    "    # remove all single characters\n",
    "    document = re.sub(r'\\s+[a-zA-Z]\\s+', ' ', document)\n",
    "\n",
    "    # Remove single characters from the start\n",
    "    document = re.sub(r'\\^[a-zA-Z]\\s+', ' ', document) \n",
    "\n",
    "    # Substituting multiple spaces with single space\n",
    "    document = re.sub(r'\\s+', ' ', document, flags=re.I)\n",
    "\n",
    "    # Removing prefixed 'b'\n",
    "    document = re.sub(r'^b\\s+', '', document)\n",
    "    \n",
    "    # Replace numbers with \"number\"\n",
    "    document = re.sub(r'[0-9]+', 'number', document)\n",
    "    \n",
    "    # Remove punctuation\n",
    "    document = re.sub(r'[^\\w\\s]', \"\", document)\n",
    "    \n",
    "    # Remove underscore\n",
    "    document = re.sub(r'_+', 'underscore', document)\n",
    "    \n",
    "    # Converting to Lowercase\n",
    "    document = document.lower()\n",
    "\n",
    "    # Tokenizing\n",
    "    document = document.split()\n",
    "\n",
    "    \n",
    "    # Lemmatizing\n",
    "    document = [stemmer.lemmatize(word) for word in document]\n",
    "    document = ' '.join(document)\n",
    "\n",
    "    documents.append(document)\n",
    "    \n",
    "for row_t in range(len(df_text)):\n",
    "    df_text[\"text\"].iloc[row_t] = documents[row_t]\n",
    "\n",
    "del documents"
   ]
  },
  {
   "cell_type": "markdown",
   "metadata": {},
   "source": [
    "# Feature engineering"
   ]
  },
  {
   "cell_type": "code",
   "execution_count": 11,
   "metadata": {},
   "outputs": [
    {
     "name": "stderr",
     "output_type": "stream",
     "text": [
      "C:\\Users\\Hella\\Anaconda3\\lib\\site-packages\\ipykernel_launcher.py:1: SettingWithCopyWarning: \n",
      "A value is trying to be set on a copy of a slice from a DataFrame.\n",
      "Try using .loc[row_indexer,col_indexer] = value instead\n",
      "\n",
      "See the caveats in the documentation: http://pandas.pydata.org/pandas-docs/stable/indexing.html#indexing-view-versus-copy\n",
      "  \"\"\"Entry point for launching an IPython kernel.\n",
      "C:\\Users\\Hella\\Anaconda3\\lib\\site-packages\\ipykernel_launcher.py:2: SettingWithCopyWarning: \n",
      "A value is trying to be set on a copy of a slice from a DataFrame.\n",
      "Try using .loc[row_indexer,col_indexer] = value instead\n",
      "\n",
      "See the caveats in the documentation: http://pandas.pydata.org/pandas-docs/stable/indexing.html#indexing-view-versus-copy\n",
      "  \n",
      "C:\\Users\\Hella\\Anaconda3\\lib\\site-packages\\ipykernel_launcher.py:3: SettingWithCopyWarning: \n",
      "A value is trying to be set on a copy of a slice from a DataFrame.\n",
      "Try using .loc[row_indexer,col_indexer] = value instead\n",
      "\n",
      "See the caveats in the documentation: http://pandas.pydata.org/pandas-docs/stable/indexing.html#indexing-view-versus-copy\n",
      "  This is separate from the ipykernel package so we can avoid doing imports until\n"
     ]
    }
   ],
   "source": [
    "df_text['char_count'] = df_text['text'].apply(len)\n",
    "df_text['word_count'] = df_text['text'].apply(lambda x: len(x.split()))\n",
    "df_text['word_density'] = df_text['char_count'] / (df_text['word_count']+1)"
   ]
  },
  {
   "cell_type": "code",
   "execution_count": 13,
   "metadata": {},
   "outputs": [],
   "source": [
    "# Filepath locations\n",
    "stopWordsFile = 'StopWords_Generic.txt'\n",
    "positiveWordsFile = 'PositiveWords.txt'\n",
    "nagitiveWordsFile = 'NegativeWords.txt'\n",
    "uncertainty_dictionaryFile = 'uncertainty_dictionary.txt'\n",
    "constraining_dictionaryFile = 'constraining_dictionary.txt'"
   ]
  },
  {
   "cell_type": "code",
   "execution_count": 14,
   "metadata": {},
   "outputs": [],
   "source": [
    "with open(stopWordsFile ,'r') as stop_words:\n",
    "    stopWords = stop_words.read().lower()\n",
    "stopWordList = stopWords.split('\\n')\n",
    "stopWordList[-1:] = []\n",
    "\n",
    "\n",
    "def tokenizer(text):\n",
    "    text = text.lower()\n",
    "    tokenizer = RegexpTokenizer(r'\\w+')\n",
    "    tokens = tokenizer.tokenize(text)\n",
    "    filtered_words = list(filter(lambda token: token not in stopWordList, tokens))\n",
    "    return filtered_words\n",
    "\n",
    "# Loading positive words\n",
    "with open(positiveWordsFile,'r') as posfile:\n",
    "    positivewords=posfile.read().lower()\n",
    "positiveWordList=positivewords.split('\\n')\n",
    "\n",
    "# Loading negative words\n",
    "with open(nagitiveWordsFile ,'r') as negfile:\n",
    "    negativeword=negfile.read().lower()\n",
    "negativeWordList=negativeword.split('\\n')\n",
    "\n",
    "# Calculating positive score \n",
    "def positive_score(text):\n",
    "    numPosWords = 0\n",
    "    rawToken = tokenizer(text)\n",
    "    for word in rawToken:\n",
    "        if word in positiveWordList:\n",
    "            numPosWords  += 1\n",
    "    \n",
    "    sumPos = numPosWords\n",
    "    return sumPos\n",
    "\n",
    "# Calculating Negative score\n",
    "def negative_word(text):\n",
    "    numNegWords=0\n",
    "    rawToken = tokenizer(text)\n",
    "    for word in rawToken:\n",
    "        if word in negativeWordList:\n",
    "            numNegWords -=1\n",
    "    sumNeg = numNegWords \n",
    "    sumNeg = sumNeg * -1\n",
    "    return sumNeg\n",
    "\n",
    "# Calculating polarity score\n",
    "def polarity_score(positiveScore, negativeScore):\n",
    "    pol_score = (positiveScore - negativeScore) / ((positiveScore + negativeScore) + 0.000001)\n",
    "    return pol_score\n",
    "\n",
    "# Calculating Average sentence length \n",
    "# It will calculated using formula --- Average Sentence Length = the number of words / the number of sentences\n",
    "     \n",
    "def average_sentence_length(text):\n",
    "    sentence_list = sent_tokenize(text)\n",
    "    tokens = tokenizer(text)\n",
    "    totalWordCount = len(tokens)\n",
    "    totalSentences = len(sentence_list)\n",
    "    average_sent = 0\n",
    "    if totalSentences != 0:\n",
    "        average_sent = totalWordCount / totalSentences\n",
    "    \n",
    "    average_sent_length= average_sent\n",
    "    \n",
    "    return round(average_sent_length)\n",
    "\n",
    "# Calculating percentage of complex word \n",
    "# It is calculated using Percentage of Complex words = the number of complex words / the number of words \n",
    "\n",
    "def percentage_complex_word(text):\n",
    "    tokens = tokenizer(text)\n",
    "    complexWord = 0\n",
    "    complex_word_percentage = 0\n",
    "    \n",
    "    for word in tokens:\n",
    "        vowels=0\n",
    "        if word.endswith(('es','ed')):\n",
    "            pass\n",
    "        else:\n",
    "            for w in word:\n",
    "                if(w=='a' or w=='e' or w=='i' or w=='o' or w=='u'):\n",
    "                    vowels += 1\n",
    "            if(vowels > 2):\n",
    "                complexWord += 1\n",
    "    if len(tokens) != 0:\n",
    "        complex_word_percentage = complexWord/len(tokens)\n",
    "    \n",
    "    return complex_word_percentage\n",
    "\n",
    "# calculating Fog Index \n",
    "# Fog index is calculated using -- Fog Index = 0.4 * (Average Sentence Length + Percentage of Complex words)\n",
    "\n",
    "def fog_index(averageSentenceLength, percentageComplexWord):\n",
    "    fogIndex = 0.4 * (averageSentenceLength + percentageComplexWord)\n",
    "    return fogIndex\n",
    "\n",
    "# Counting complex words\n",
    "def complex_word_count(text):\n",
    "    tokens = tokenizer(text)\n",
    "    complexWord = 0\n",
    "    \n",
    "    for word in tokens:\n",
    "        vowels=0\n",
    "        if word.endswith(('es','ed')):\n",
    "            pass\n",
    "        else:\n",
    "            for w in word:\n",
    "                if(w=='a' or w=='e' or w=='i' or w=='o' or w=='u'):\n",
    "                    vowels += 1\n",
    "            if(vowels > 2):\n",
    "                complexWord += 1\n",
    "    return complexWord\n",
    "\n",
    "#Counting total words\n",
    "\n",
    "def total_word_count(text):\n",
    "    tokens = tokenizer(text)\n",
    "    return len(tokens)\n",
    "\n",
    "# calculating uncertainty_score\n",
    "with open(uncertainty_dictionaryFile ,'r') as uncertain_dict:\n",
    "    uncertainDict=uncertain_dict.read().lower()\n",
    "uncertainDictionary = uncertainDict.split('\\n')\n",
    "\n",
    "def uncertainty_score(text):\n",
    "    uncertainWordnum =0\n",
    "    rawToken = tokenizer(text)\n",
    "    for word in rawToken:\n",
    "        if word in uncertainDictionary:\n",
    "            uncertainWordnum +=1\n",
    "    sumUncertainityScore = uncertainWordnum \n",
    "    \n",
    "    return sumUncertainityScore\n",
    "\n",
    "# calculating constraining score\n",
    "with open(constraining_dictionaryFile ,'r') as constraining_dict:\n",
    "    constrainDict=constraining_dict.read().lower()\n",
    "constrainDictionary = constrainDict.split('\\n')\n",
    "\n",
    "def constraining_score(text):\n",
    "    constrainWordnum =0\n",
    "    rawToken = tokenizer(text)\n",
    "    for word in rawToken:\n",
    "        if word in constrainDictionary:\n",
    "            constrainWordnum +=1\n",
    "    sumConstrainScore = constrainWordnum \n",
    "    \n",
    "    return sumConstrainScore\n",
    "\n",
    "# Calculating positive word proportion\n",
    "\n",
    "def positive_word_prop(positiveScore,wordcount):\n",
    "    positive_word_proportion = 0\n",
    "    if wordcount !=0:\n",
    "        positive_word_proportion = positiveScore / wordcount\n",
    "        \n",
    "    return positive_word_proportion\n",
    "\n",
    "# Calculating negative word proportion\n",
    "\n",
    "def negative_word_prop(negativeScore,wordcount):\n",
    "    negative_word_proportion = 0\n",
    "    if wordcount !=0:\n",
    "        negative_word_proportion = negativeScore / wordcount\n",
    "        \n",
    "    return negative_word_proportion\n",
    "\n",
    "# Calculating uncertain word proportion\n",
    "\n",
    "def uncertain_word_prop(uncertainScore,wordcount):\n",
    "    uncertain_word_proportion = 0\n",
    "    if wordcount !=0:\n",
    "        uncertain_word_proportion = uncertainScore / wordcount\n",
    "        \n",
    "    return uncertain_word_proportion\n",
    "\n",
    "# Calculating constraining word proportion\n",
    "\n",
    "def constraining_word_prop(constrainingScore,wordcount):\n",
    "    constraining_word_proportion = 0\n",
    "    if wordcount !=0:\n",
    "        constraining_word_proportion = constrainingScore / wordcount\n",
    "        \n",
    "    return constraining_word_proportion\n",
    "\n",
    "# calculating Constraining words for whole report\n",
    "\n",
    "def constrain_word_whole(mdaText,qqdmrText,rfText):\n",
    "    wholeDoc = mdaText + qqdmrText + rfText\n",
    "    constrainWordnumWhole =0\n",
    "    rawToken = tokenizer(wholeDoc)\n",
    "    for word in rawToken:\n",
    "        if word in constrainDictionary:\n",
    "            constrainWordnumWhole +=1\n",
    "    sumConstrainScoreWhole = constrainWordnumWhole \n",
    "    \n",
    "    return sumConstrainScoreWhole"
   ]
  },
  {
   "cell_type": "code",
   "execution_count": 15,
   "metadata": {},
   "outputs": [
    {
     "name": "stderr",
     "output_type": "stream",
     "text": [
      "C:\\Users\\Hella\\Anaconda3\\lib\\site-packages\\ipykernel_launcher.py:1: SettingWithCopyWarning: \n",
      "A value is trying to be set on a copy of a slice from a DataFrame.\n",
      "Try using .loc[row_indexer,col_indexer] = value instead\n",
      "\n",
      "See the caveats in the documentation: http://pandas.pydata.org/pandas-docs/stable/indexing.html#indexing-view-versus-copy\n",
      "  \"\"\"Entry point for launching an IPython kernel.\n",
      "C:\\Users\\Hella\\Anaconda3\\lib\\site-packages\\ipykernel_launcher.py:2: SettingWithCopyWarning: \n",
      "A value is trying to be set on a copy of a slice from a DataFrame.\n",
      "Try using .loc[row_indexer,col_indexer] = value instead\n",
      "\n",
      "See the caveats in the documentation: http://pandas.pydata.org/pandas-docs/stable/indexing.html#indexing-view-versus-copy\n",
      "  \n",
      "C:\\Users\\Hella\\Anaconda3\\lib\\site-packages\\ipykernel_launcher.py:3: SettingWithCopyWarning: \n",
      "A value is trying to be set on a copy of a slice from a DataFrame.\n",
      "Try using .loc[row_indexer,col_indexer] = value instead\n",
      "\n",
      "See the caveats in the documentation: http://pandas.pydata.org/pandas-docs/stable/indexing.html#indexing-view-versus-copy\n",
      "  This is separate from the ipykernel package so we can avoid doing imports until\n",
      "C:\\Users\\Hella\\Anaconda3\\lib\\site-packages\\ipykernel_launcher.py:4: SettingWithCopyWarning: \n",
      "A value is trying to be set on a copy of a slice from a DataFrame.\n",
      "Try using .loc[row_indexer,col_indexer] = value instead\n",
      "\n",
      "See the caveats in the documentation: http://pandas.pydata.org/pandas-docs/stable/indexing.html#indexing-view-versus-copy\n",
      "  after removing the cwd from sys.path.\n",
      "C:\\Users\\Hella\\Anaconda3\\lib\\site-packages\\ipykernel_launcher.py:5: SettingWithCopyWarning: \n",
      "A value is trying to be set on a copy of a slice from a DataFrame.\n",
      "Try using .loc[row_indexer,col_indexer] = value instead\n",
      "\n",
      "See the caveats in the documentation: http://pandas.pydata.org/pandas-docs/stable/indexing.html#indexing-view-versus-copy\n",
      "  \"\"\"\n",
      "C:\\Users\\Hella\\Anaconda3\\lib\\site-packages\\ipykernel_launcher.py:6: SettingWithCopyWarning: \n",
      "A value is trying to be set on a copy of a slice from a DataFrame.\n",
      "Try using .loc[row_indexer,col_indexer] = value instead\n",
      "\n",
      "See the caveats in the documentation: http://pandas.pydata.org/pandas-docs/stable/indexing.html#indexing-view-versus-copy\n",
      "  \n",
      "C:\\Users\\Hella\\Anaconda3\\lib\\site-packages\\ipykernel_launcher.py:7: SettingWithCopyWarning: \n",
      "A value is trying to be set on a copy of a slice from a DataFrame.\n",
      "Try using .loc[row_indexer,col_indexer] = value instead\n",
      "\n",
      "See the caveats in the documentation: http://pandas.pydata.org/pandas-docs/stable/indexing.html#indexing-view-versus-copy\n",
      "  import sys\n",
      "C:\\Users\\Hella\\Anaconda3\\lib\\site-packages\\ipykernel_launcher.py:8: SettingWithCopyWarning: \n",
      "A value is trying to be set on a copy of a slice from a DataFrame.\n",
      "Try using .loc[row_indexer,col_indexer] = value instead\n",
      "\n",
      "See the caveats in the documentation: http://pandas.pydata.org/pandas-docs/stable/indexing.html#indexing-view-versus-copy\n",
      "  \n",
      "C:\\Users\\Hella\\Anaconda3\\lib\\site-packages\\ipykernel_launcher.py:9: SettingWithCopyWarning: \n",
      "A value is trying to be set on a copy of a slice from a DataFrame.\n",
      "Try using .loc[row_indexer,col_indexer] = value instead\n",
      "\n",
      "See the caveats in the documentation: http://pandas.pydata.org/pandas-docs/stable/indexing.html#indexing-view-versus-copy\n",
      "  if __name__ == '__main__':\n",
      "C:\\Users\\Hella\\Anaconda3\\lib\\site-packages\\ipykernel_launcher.py:10: SettingWithCopyWarning: \n",
      "A value is trying to be set on a copy of a slice from a DataFrame.\n",
      "Try using .loc[row_indexer,col_indexer] = value instead\n",
      "\n",
      "See the caveats in the documentation: http://pandas.pydata.org/pandas-docs/stable/indexing.html#indexing-view-versus-copy\n",
      "  # Remove the CWD from sys.path while we load stuff.\n",
      "C:\\Users\\Hella\\Anaconda3\\lib\\site-packages\\ipykernel_launcher.py:11: SettingWithCopyWarning: \n",
      "A value is trying to be set on a copy of a slice from a DataFrame.\n",
      "Try using .loc[row_indexer,col_indexer] = value instead\n",
      "\n",
      "See the caveats in the documentation: http://pandas.pydata.org/pandas-docs/stable/indexing.html#indexing-view-versus-copy\n",
      "  # This is added back by InteractiveShellApp.init_path()\n",
      "C:\\Users\\Hella\\Anaconda3\\lib\\site-packages\\ipykernel_launcher.py:12: SettingWithCopyWarning: \n",
      "A value is trying to be set on a copy of a slice from a DataFrame.\n",
      "Try using .loc[row_indexer,col_indexer] = value instead\n",
      "\n",
      "See the caveats in the documentation: http://pandas.pydata.org/pandas-docs/stable/indexing.html#indexing-view-versus-copy\n",
      "  if sys.path[0] == '':\n",
      "C:\\Users\\Hella\\Anaconda3\\lib\\site-packages\\ipykernel_launcher.py:13: SettingWithCopyWarning: \n",
      "A value is trying to be set on a copy of a slice from a DataFrame.\n",
      "Try using .loc[row_indexer,col_indexer] = value instead\n",
      "\n",
      "See the caveats in the documentation: http://pandas.pydata.org/pandas-docs/stable/indexing.html#indexing-view-versus-copy\n",
      "  del sys.path[0]\n"
     ]
    }
   ],
   "source": [
    "df_text[\"positive_score\"] = df_text[\"text\"].apply(positive_score)\n",
    "df_text[\"negative_score\"] = df_text[\"text\"].apply(negative_word)\n",
    "df_text[\"polarity_score\"] = np.vectorize(polarity_score)(df_text[\"positive_score\"], df_text[\"negative_score\"])\n",
    "df_text[\"average_sen_len\"] = df_text[\"text\"].apply(average_sentence_length)\n",
    "df_text[\"percentage_complex_word\"] = df_text[\"text\"].apply(percentage_complex_word)\n",
    "df_text[\"fog_index\"] = np.vectorize(fog_index)(df_text[\"average_sen_len\"], df_text[\"percentage_complex_word\"])\n",
    "df_text[\"complex_word_count\"] = df_text[\"text\"].apply(complex_word_count)\n",
    "df_text[\"uncertainty_score\"] = df_text[\"text\"].apply(uncertainty_score)\n",
    "df_text[\"constraining_score\"] = df_text[\"text\"].apply(constraining_score)\n",
    "df_text[\"positive_word_prop\"] = np.vectorize(positive_word_prop)(df_text[\"positive_score\"], df_text[\"word_count\"])\n",
    "df_text[\"negative_word_prop\"] = np.vectorize(negative_word_prop)(df_text[\"negative_score\"],df_text[\"word_count\"])\n",
    "df_text[\"uncertain_word_prop\"] = np.vectorize(uncertain_word_prop)(df_text[\"uncertainty_score\"],df_text[\"word_count\"])\n",
    "df_text[\"constraining_word_prop\"] = np.vectorize(constraining_word_prop)(df_text[\"constraining_score\"],df_text[\"word_count\"])"
   ]
  },
  {
   "cell_type": "markdown",
   "metadata": {},
   "source": [
    "## Group of words creation"
   ]
  },
  {
   "cell_type": "code",
   "execution_count": 17,
   "metadata": {},
   "outputs": [],
   "source": [
    "\n",
    "\n",
    "groups_dict = {\n",
    "     \"group_positive_all\": [\"strike\", \"greenhouse\", \"energy\", \"fuel\",\"gas\",\"emission\",\"fraudulent\",\"climate\",\"water\",\"food\",\"welfare\",\"cautionary\",\"africa\"],#positive for total\n",
    "     \"group_positive_e\": [\"weather\" , \"sustainable\", \"fleet\",\"light\",\"engine\",\"flood\",\"chemical\"], #positive for E\n",
    "     \"group_positive_s\": [\"oil\", \"consumption\", \"retiree\", \"family\",\"poor\",\"safe\",\"carbon\",\"medical\"], #positive for S\n",
    "     \"group_positive_g\": [\"cancelable\", \"insolvency\", \"differentiate\",\"metric\",\"strategically\",\"synergy\"], #positive for G\n",
    "     \"group_neative_all\": [\"noncompliance\", \"steel\", \"recoverability\",\"contaminated\",\"collusion\",\"removal\"], #negative for total\n",
    "     \"group_negative_e\": [\"unused\", \"prevented\", \"mechanical\"], #negative for E\n",
    "     \"group_negative_s\": [\"severity\", \"transmission\", \"salary\",\"threatened\"], #negative for S\n",
    "     \"group_negative_g\": [\"minor\", \"waste\",\"electricity\"] #negative for G\n",
    "     }\n",
    "\n",
    "\n",
    "groups_dat = pd.DataFrame(index=range(0,len(df_text)), columns = [\"group_positive_all\", \"group_positive_e\", \"group_positive_s\",\n",
    "                                               \"group_positive_g\", \"group_neative_all\", \"group_negative_e\",\n",
    "                                               \"group_negative_s\", \"group_negative_g\"])\n"
   ]
  },
  {
   "cell_type": "code",
   "execution_count": 18,
   "metadata": {},
   "outputs": [],
   "source": [
    "for w in groups_dict.keys():\n",
    "    for i in range(len(df_text)):\n",
    "        L3 = [j for j in df_text[\"text\"][i].split() if j in groups_dict[w]]\n",
    "        groups_dat[w].iloc[i] = len(L3)\n",
    "        \n"
   ]
  },
  {
   "cell_type": "code",
   "execution_count": 19,
   "metadata": {},
   "outputs": [],
   "source": [
    "df_text = df_text.join(groups_dat)"
   ]
  },
  {
   "cell_type": "markdown",
   "metadata": {},
   "source": [
    "# Bag of words"
   ]
  },
  {
   "cell_type": "code",
   "execution_count": 17,
   "metadata": {},
   "outputs": [],
   "source": [
    "# # create a count vectorizer object \n",
    "# count_vect = CountVectorizer(analyzer='word', token_pattern=r'\\w{1,}', stop_words=\"english\", max_df = 0.8, min_df = 0.2)\n",
    "# count_vect.fit(df_text['text'])\n",
    "\n",
    "# # transform the training and validation data using count vectorizer object\n",
    "# xtrain_count =  count_vect.transform(df_text[\"text\"])\n"
   ]
  },
  {
   "cell_type": "markdown",
   "metadata": {},
   "source": [
    "# Term Frequency - Inverse Document Frequency (TF-IDF)"
   ]
  },
  {
   "cell_type": "code",
   "execution_count": 21,
   "metadata": {},
   "outputs": [],
   "source": [
    "#word level tf-idf\n",
    "tfidf_vect = TfidfVectorizer(analyzer='word', token_pattern=r'\\w{1,}', max_features=50, stop_words='english', max_df = 0.6, min_df=0.4)\n",
    "tfidf_vect.fit(df_text['text'])\n",
    "xtrain_tfidf =  tfidf_vect.transform(df_text[\"text\"])\n",
    "\n",
    "# ngram level tf-idf \n",
    "tfidf_vect_ngram = TfidfVectorizer(analyzer='word', token_pattern=r'\\w{1,}', max_features=50, ngram_range=(2,2), stop_words='english', max_df = 0.6, min_df=0.4)\n",
    "tfidf_vect_ngram.fit(df_text['text'])\n",
    "xtrain_tfidf_ngram =  tfidf_vect_ngram.transform(df_text[\"text\"])\n"
   ]
  },
  {
   "cell_type": "code",
   "execution_count": 22,
   "metadata": {},
   "outputs": [],
   "source": [
    "df_tfidf = pd.DataFrame(xtrain_tfidf.toarray(), columns=tfidf_vect.get_feature_names())"
   ]
  },
  {
   "cell_type": "code",
   "execution_count": 23,
   "metadata": {},
   "outputs": [],
   "source": [
    "df_ngrams = pd.DataFrame(xtrain_tfidf_ngram.toarray(), columns=tfidf_vect_ngram.get_feature_names())"
   ]
  },
  {
   "cell_type": "markdown",
   "metadata": {},
   "source": [
    "# Latent Dirichlet Allocation (LDA) (Did not use)"
   ]
  },
  {
   "cell_type": "code",
   "execution_count": 18,
   "metadata": {},
   "outputs": [
    {
     "name": "stderr",
     "output_type": "stream",
     "text": [
      "C:\\Users\\Hella\\Anaconda3\\lib\\site-packages\\sklearn\\decomposition\\online_lda.py:314: DeprecationWarning: n_topics has been renamed to n_components in version 0.19 and will be removed in 0.21\n",
      "  DeprecationWarning)\n"
     ]
    }
   ],
   "source": [
    "# # train a LDA Model\n",
    "# lda_model = decomposition.LatentDirichletAllocation(n_components=10, \n",
    "#                                                     learning_method='online', \n",
    "#                                                     max_iter=50,\n",
    "#                                                     random_state=123,\n",
    "#                                                     n_topics = 10,\n",
    "#                                                     evaluate_every = -1)\n",
    "# X_topics = lda_model.fit_transform(xtrain_count)\n",
    "# topic_word = lda_model.components_ \n",
    "# vocab = count_vect.get_feature_names()\n",
    "\n",
    "# # Log Likelyhood: Higher the better\n",
    "# print(\"Log Likelihood: \", lda_model.score(xtrain_count))\n",
    "\n",
    "# # Perplexity: Lower the better. Perplexity = exp(-1. * log-likelihood per word)\n",
    "# print(\"Perplexity: \", lda_model.perplexity(xtrain_count))\n",
    "\n",
    "# # See model parameters\n",
    "# print(lda_model.get_params())\n",
    "\n",
    "#view the topic models\n",
    "# n_top_words = 10\n",
    "# topic_summaries = []\n",
    "# for i, topic_dist in enumerate(topic_word):\n",
    "#     topic_words = numpy.array(vocab)[numpy.argsort(topic_dist)][:-(n_top_words+1):-1]\n",
    "#     topic_summaries.append(' '.join(topic_words))\n",
    "\n",
    "# #n_topics = [10, 15, 20, 25, 30]\n",
    "# # Create Document - Topic Matrix\n",
    "# lda_output = lda_model.transform(xtrain_count)\n",
    "\n",
    "# # column names\n",
    "# topicnames = [\"Topic\" + str(i) for i in range(lda_model.n_topics)]\n",
    "\n",
    "# # index names\n",
    "# docnames = [\"Doc\" + str(i) for i in range(len(df_text))]\n",
    "\n",
    "# # Make the pandas dataframe\n",
    "# df_document_topic = pd.DataFrame(np.round(lda_output, 2), columns=topicnames, index=range(len(df_text)))\n",
    "\n",
    "# # Get dominant topic for each document\n",
    "# dominant_topic = np.argmax(df_document_topic.values, axis=1)\n",
    "# df_document_topic['dominant_topic'] = dominant_topic"
   ]
  },
  {
   "cell_type": "code",
   "execution_count": 155,
   "metadata": {},
   "outputs": [],
   "source": [
    "words_grams = df_tfidf.join(df_ngrams)"
   ]
  },
  {
   "cell_type": "code",
   "execution_count": 156,
   "metadata": {},
   "outputs": [],
   "source": [
    "df_rel = df_text.join(words_grams) ## keep"
   ]
  },
  {
   "cell_type": "code",
   "execution_count": 158,
   "metadata": {},
   "outputs": [],
   "source": [
    "df_rel.drop(columns=[\"text\", \"id\"], inplace=True)"
   ]
  },
  {
   "cell_type": "markdown",
   "metadata": {},
   "source": [
    "# Standardizing"
   ]
  },
  {
   "cell_type": "code",
   "execution_count": 159,
   "metadata": {},
   "outputs": [
    {
     "name": "stderr",
     "output_type": "stream",
     "text": [
      "C:\\Users\\Hella\\Anaconda3\\lib\\site-packages\\sklearn\\preprocessing\\data.py:625: DataConversionWarning: Data with input dtype int64, float64 were all converted to float64 by StandardScaler.\n",
      "  return self.partial_fit(X, y)\n",
      "C:\\Users\\Hella\\Anaconda3\\lib\\site-packages\\sklearn\\base.py:462: DataConversionWarning: Data with input dtype int64, float64 were all converted to float64 by StandardScaler.\n",
      "  return self.fit(X, **fit_params).transform(X)\n"
     ]
    }
   ],
   "source": [
    "x = df_rel[['char_count',\n",
    "       'word_count', 'word_density', 'positive_score', 'negative_score',\n",
    "       'polarity_score', 'average_sen_len', 'percentage_complex_word',\n",
    "       'fog_index', 'complex_word_count', 'uncertainty_score',\n",
    "       'constraining_score', 'positive_word_prop', 'negative_word_prop',\n",
    "       'uncertain_word_prop', 'constraining_word_prop', 'group_positive_all',\n",
    "       'group_positive_e', 'group_positive_s', 'group_positive_g',\n",
    "       'group_neative_all', 'group_negative_e', 'group_negative_s',\n",
    "       'group_negative_g']] #returns a numpy array\n",
    "scaler = preprocessing.StandardScaler()\n",
    "x_scaled = scaler.fit_transform(x)\n",
    "df_rel[['char_count',\n",
    "       'word_count', 'word_density', 'positive_score', 'negative_score',\n",
    "       'polarity_score', 'average_sen_len', 'percentage_complex_word',\n",
    "       'fog_index', 'complex_word_count', 'uncertainty_score',\n",
    "       'constraining_score', 'positive_word_prop', 'negative_word_prop',\n",
    "       'uncertain_word_prop', 'constraining_word_prop', 'group_positive_all',\n",
    "       'group_positive_e', 'group_positive_s', 'group_positive_g',\n",
    "       'group_neative_all', 'group_negative_e', 'group_negative_s',\n",
    "       'group_negative_g']] = pd.DataFrame(x_scaled, dtype=\"float32\")"
   ]
  },
  {
   "cell_type": "markdown",
   "metadata": {},
   "source": [
    "# Train-test split"
   ]
  },
  {
   "cell_type": "code",
   "execution_count": 160,
   "metadata": {},
   "outputs": [],
   "source": [
    "x_train, x_test, y_train, y_test = model_selection.train_test_split(df_rel.drop(columns=['total_esg','E_score','S_score','G_score']), \n",
    "                                                                    df_rel[['total_esg','E_score','S_score','G_score']], \n",
    "                                                                    test_size = 0.2, \n",
    "                                                                    random_state = 123)\n",
    "### Split into validation and test set\n",
    "x1_train, x1_test, y1_train, y1_test = model_selection.train_test_split(x_test, y_test, test_size = 0.5, random_state = 123)\n",
    "\n",
    "\n",
    "\n",
    "\n",
    "y_train1 = y_train[\"total_esg\"]\n",
    "y_train2 = y_train[\"E_score\"]\n",
    "y_train3 = y_train[\"S_score\"]\n",
    "y_train4 = y_train[\"G_score\"]\n",
    "\n",
    "y_test1 = y_test[\"total_esg\"]\n",
    "y_test2 = y_test[\"E_score\"]\n",
    "y_test3 = y_test[\"S_score\"]\n",
    "y_test4 = y_test[\"G_score\"]\n",
    "\n",
    "\n",
    "\n",
    "y1_train1 = y1_train[\"total_esg\"]\n",
    "y1_train2 = y1_train[\"E_score\"]\n",
    "y1_train3 = y1_train[\"S_score\"]\n",
    "y1_train4 = y1_train[\"G_score\"]\n",
    "\n",
    "y1_test1 = y1_test[\"total_esg\"]\n",
    "y1_test2 = y1_test[\"E_score\"]\n",
    "y1_test3 = y1_test[\"S_score\"]\n",
    "y1_test4 = y1_test[\"G_score\"]\n"
   ]
  },
  {
   "cell_type": "markdown",
   "metadata": {},
   "source": [
    "# Deep Neural Network"
   ]
  },
  {
   "cell_type": "markdown",
   "metadata": {},
   "source": [
    "# Model Tuning"
   ]
  },
  {
   "cell_type": "code",
   "execution_count": 38,
   "metadata": {},
   "outputs": [],
   "source": [
    "# first_layer = [120, 100, 80]\n",
    "# second_layer = [70, 60]\n",
    "# third_layer = [50]\n",
    "# fourth_layer = [30]\n",
    "\n",
    "# # # create model\n",
    "# for first in first_layer:\n",
    "#     for second in second_layer:\n",
    "#         for third in third_layer:\n",
    "#             for fourth in fourth_layer:\n",
    "\n",
    "#                 inputs = Input(shape = (124,))\n",
    "#                 layer1 = Dense(first, activation = 'relu')(inputs)\n",
    "#                 layer1 = Dropout(0.2)(layer1)\n",
    "\n",
    "#                 layer2 = Dense(second, activation = 'relu')(layer1)\n",
    "#                 layer2 = Dropout(0.2)(layer2)\n",
    "\n",
    "\n",
    "#                 layer3 = Dense(third, activation = 'relu')(layer2)\n",
    "#                 layer3 = Dropout(0.2)(layer3)\n",
    "\n",
    "#                 layer4 = Dense(fourth, activation = 'relu')(layer3)\n",
    "#                 layer4 = Dropout(0.2)(layer4)\n",
    "\n",
    "\n",
    "\n",
    "\n",
    "\n",
    "#                 out1 = Dense(3, activation='softmax')(layer4)\n",
    "#                 out2 = Dense(3, activation='softmax')(layer4)\n",
    "#                 out3 = Dense(3, activation='softmax')(layer4)\n",
    "#                 out4 = Dense(3, activation='softmax')(layer4)\n",
    "#                 model = Model(inputs = inputs, outputs = [out1, out2, out3, out4])\n",
    "\n",
    "#                 # Compile the model\n",
    "#                 adamg = optimizers.adam(lr=0.001, decay=0.001)\n",
    "#                 model.compile(optimizer = 'adam',\n",
    "#                               loss = \"sparse_categorical_crossentropy\", # Call the loss function with the selected layer\n",
    "#                               metrics = ['accuracy'])\n",
    "\n",
    "#                 callbacks = [EarlyStopping(monitor='val_loss', patience=30),\n",
    "#                             ModelCheckpoint(filepath='best_model.h5', monitor='val_loss', save_best_only=True)]\n",
    "#                 history = model.fit([x_train], [y_train1, y_train2, y_train3, y_train4],\n",
    "#                          validation_data=([x_test], [y_test1, y_test2, y_test3, y_test4]),\n",
    "#                          epochs = 800, verbose=False, callbacks=callbacks)\n",
    "\n",
    "#                 total_loss, val_loss1, val_loss2, val_loss3,val_loss4, val_acc1, val_acc2, val_acc3, val_acc4 = model.evaluate([x_test], [y_test1, y_test2, y_test3, y_test4])\n",
    "#                 print(f'accuracy:{sum([val_acc1, val_acc2, val_acc3, val_acc4])/len([val_acc1, val_acc2, val_acc3, val_acc4])*100}, first :{first}, second: {second}, third:{third}, fourth:{fourth}')\n",
    "\n"
   ]
  },
  {
   "cell_type": "markdown",
   "metadata": {},
   "source": [
    "# Final Model"
   ]
  },
  {
   "cell_type": "code",
   "execution_count": 161,
   "metadata": {},
   "outputs": [],
   "source": [
    "#### Core layers\n",
    "inputs = Input(shape = (124,))\n",
    "layer1 = Dense(130, activation = 'relu')(inputs)\n",
    "layer1 = Dropout(0.2)(layer1)\n",
    "\n",
    "layer2 = Dense(80, activation = 'relu')(layer1)\n",
    "layer2 = Dropout(0.2)(layer2)\n",
    "\n",
    "\n",
    "layer3 = Dense(40, activation = 'relu', kernel_initializer='normal')(layer2)\n",
    "layer3 = Dropout(0.2)(layer3)\n",
    "\n",
    "\n",
    "\n",
    "\n",
    "\n",
    "\n",
    "out1 = Dense(3, activation='softmax', kernel_initializer='normal')(layer3)\n",
    "out2 = Dense(3, activation='softmax')(layer3)\n",
    "out3 = Dense(3, activation='softmax')(layer3)\n",
    "out4 = Dense(3, activation='softmax')(layer3)\n",
    "model = Model(inputs = inputs, outputs = [out1, out2, out3, out4])\n",
    "\n",
    "# Compile the model\n",
    "model.compile(optimizer = 'adam',\n",
    "              loss = \"sparse_categorical_crossentropy\",\n",
    "              metrics = ['accuracy'])\n",
    "\n",
    "\n",
    "callbacks = [EarlyStopping(monitor='val_loss', patience=30),\n",
    "            ModelCheckpoint(filepath='best_model.h5', monitor='val_loss', save_best_only=True)]\n",
    "history = model.fit([x_train], [y_train1, y_train2, y_train3, y_train4],\n",
    "         validation_data=([x1_train], [y1_train1, y1_train2, y1_train3, y1_train4]),\n",
    "         epochs = 800, verbose=False, callbacks=callbacks)"
   ]
  },
  {
   "cell_type": "markdown",
   "metadata": {},
   "source": [
    "# Graph of loss"
   ]
  },
  {
   "cell_type": "code",
   "execution_count": 148,
   "metadata": {},
   "outputs": [
    {
     "data": {
      "image/png": "[encoded data removed]",
      "text/plain": [
       "<Figure size 432x288 with 1 Axes>"
      ]
     },
     "metadata": {
      "needs_background": "light"
     },
     "output_type": "display_data"
    }
   ],
   "source": [
    "# Plot training & validation loss values\n",
    "# plt.plot(history.history['loss'])\n",
    "# plt.plot(history.history['val_loss'])\n",
    "# plt.title('Model loss')\n",
    "# plt.ylabel('Loss')\n",
    "# plt.xlabel('Epoch')\n",
    "# plt.legend(['Train', 'Test'], loc='upper left')\n",
    "# plt.show()"
   ]
  },
  {
   "cell_type": "markdown",
   "metadata": {},
   "source": [
    "# Accuracy on the test set"
   ]
  },
  {
   "cell_type": "code",
   "execution_count": 149,
   "metadata": {},
   "outputs": [
    {
     "name": "stdout",
     "output_type": "stream",
     "text": [
      "377/377 [==============================] - 0s 135us/step\n",
      "51.12732087783218\n"
     ]
    }
   ],
   "source": [
    "total_loss, val_loss1, val_loss2, val_loss3,val_loss4, val_acc1, val_acc2, val_acc3, val_acc4 = model.evaluate([x1_test], [y1_test1, y1_test2, y1_test3, y1_test4])\n",
    "print(sum([val_acc1, val_acc2, val_acc3, val_acc4])/len([val_acc1, val_acc2, val_acc3, val_acc4])*100)"
   ]
  },
  {
   "cell_type": "markdown",
   "metadata": {},
   "source": [
    "# Accuracy of the separate scores"
   ]
  },
  {
   "cell_type": "code",
   "execution_count": 150,
   "metadata": {},
   "outputs": [
    {
     "name": "stdout",
     "output_type": "stream",
     "text": [
      "377/377 [==============================] - 0s 116us/step\n"
     ]
    },
    {
     "data": {
      "text/plain": [
       "[4.313089222743593,\n",
       " 1.087343040448601,\n",
       " 1.0923970466583415,\n",
       " 1.0585465358486226,\n",
       " 1.074802675677231,\n",
       " 0.5172413791522423,\n",
       " 0.4854111398720931,\n",
       " 0.5145888581516256,\n",
       " 0.5278514579373266]"
      ]
     },
     "execution_count": 150,
     "metadata": {},
     "output_type": "execute_result"
    }
   ],
   "source": [
    "model.evaluate([x1_test], [y1_test1, y1_test2, y1_test3, y1_test4])"
   ]
  },
  {
   "cell_type": "markdown",
   "metadata": {},
   "source": [
    "# Get the objective function"
   ]
  },
  {
   "cell_type": "code",
   "execution_count": 151,
   "metadata": {},
   "outputs": [],
   "source": [
    "a = model.predict(x1_test)\n",
    "\n",
    "obj = pd.DataFrame(index = range(len(y1_test)))\n",
    "\n",
    "obj[\"total_esg\"] = 0\n",
    "obj[\"E_score\"] = 0\n",
    "obj[\"S_score\"] = 0\n",
    "obj[\"G_score\"] = 0\n",
    "\n",
    "for score in range(len(y1_test)):\n",
    "    obj[\"total_esg\"].iloc[score] = np.argmax(a[0][score])\n",
    "    obj[\"E_score\"].iloc[score] = np.argmax(a[1][score])\n",
    "    obj[\"S_score\"].iloc[score] = np.argmax(a[2][score])\n",
    "    obj[\"G_score\"].iloc[score] = np.argmax(a[3][score])"
   ]
  },
  {
   "cell_type": "code",
   "execution_count": 152,
   "metadata": {},
   "outputs": [],
   "source": [
    "obj[\"theta\"] = 0\n",
    "def objective(y_true0, y_pred0, y_true1, y_pred1, y_true2, y_pred2, y_true3, y_pred3):\n",
    "   counter = (y_pred1 == y_true1)*1 + (y_pred2 == y_true2)*1 + (y_pred3 == y_true3)*1\n",
    "   if (counter == 0):\n",
    "       counter == 1\n",
    "   return (y_pred0 == y_true0)*counter"
   ]
  },
  {
   "cell_type": "code",
   "execution_count": 153,
   "metadata": {},
   "outputs": [],
   "source": [
    "obj[\"theta\"] = np.vectorize(objective)(y1_test[\"total_esg\"],\n",
    "                                       obj[\"total_esg\"],\n",
    "                                       y1_test[\"E_score\"],\n",
    "                                       obj[\"E_score\"],\n",
    "                                       y1_test[\"S_score\"],\n",
    "                                       obj[\"S_score\"],\n",
    "                                       y1_test[\"G_score\"],\n",
    "                                       obj[\"G_score\"])"
   ]
  },
  {
   "cell_type": "code",
   "execution_count": 154,
   "metadata": {},
   "outputs": [
    {
     "name": "stdout",
     "output_type": "stream",
     "text": [
      "The objective function is 393\n"
     ]
    }
   ],
   "source": [
    "print(f\"The objective function is {obj.sum()[4]}\")"
   ]
  }
 ],
 "metadata": {
  "kernelspec": {
   "display_name": "Python 3",
   "language": "python",
   "name": "python3"
  },
  "language_info": {
   "codemirror_mode": {
    "name": "ipython",
    "version": 3
   },
   "file_extension": ".py",
   "mimetype": "text/x-python",
   "name": "python",
   "nbconvert_exporter": "python",
   "pygments_lexer": "ipython3",
   "version": "3.6.8"
  }
 },
 "nbformat": 4,
 "nbformat_minor": 2
}
